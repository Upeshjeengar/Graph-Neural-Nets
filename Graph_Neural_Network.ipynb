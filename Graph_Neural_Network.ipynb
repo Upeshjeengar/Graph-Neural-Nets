{
  "nbformat": 4,
  "nbformat_minor": 0,
  "metadata": {
    "colab": {
      "provenance": [],
      "authorship_tag": "ABX9TyOSH+u1U3X70R9Z1cqLLwb4",
      "include_colab_link": true
    },
    "kernelspec": {
      "name": "python3",
      "display_name": "Python 3"
    },
    "language_info": {
      "name": "python"
    }
  },
  "cells": [
    {
      "cell_type": "markdown",
      "metadata": {
        "id": "view-in-github",
        "colab_type": "text"
      },
      "source": [
        "<a href=\"https://colab.research.google.com/github/Upeshjeengar/Graph-Neural-Nets/blob/main/Graph_Neural_Network.ipynb\" target=\"_parent\"><img src=\"https://colab.research.google.com/assets/colab-badge.svg\" alt=\"Open In Colab\"/></a>"
      ]
    },
    {
      "cell_type": "code",
      "source": [
        "!pip install torch torch torchvision torchaudio torch-geometric matplotlib scikit-learn"
      ],
      "metadata": {
        "id": "aSmQmFV-AYfS"
      },
      "execution_count": 3,
      "outputs": []
    },
    {
      "cell_type": "code",
      "source": [
        "#Necessary Imports\n",
        "import torch\n",
        "import torch.nn as nn\n",
        "import torch.nn.functional as F\n",
        "import torch.optim as optim\n",
        "from sklearn.metrics import accuracy_score\n",
        "from torch_geometric.nn.conv import GCNConv"
      ],
      "metadata": {
        "id": "5qIzFoDnBNZj"
      },
      "execution_count": 9,
      "outputs": []
    },
    {
      "cell_type": "code",
      "execution_count": 6,
      "metadata": {
        "id": "ok3X6cvZ_-Nk"
      },
      "outputs": [],
      "source": [
        "#Dataset\n",
        "from torch_geometric.datasets import Planetoid\n",
        "\n",
        "dataset = Planetoid(root=\".\", name=\"Cora\")\n",
        "data = dataset[0]\n",
        "num_labels = len(set(data.y.numpy()))  # used for output_dim"
      ]
    },
    {
      "cell_type": "markdown",
      "source": [
        "**About Dataset**    \n",
        "* The Cora dataset is a benchmark dataset for graph neural networks. The dataset contains data about 2708 scientific publications. These publications are the nodes of the graph.     \n",
        "* The target is to predict the subject of each paper, there are seven classes in total."
      ],
      "metadata": {
        "id": "zCg0TnJUAvBr"
      }
    },
    {
      "cell_type": "markdown",
      "source": [
        "#Directly Using Neural Network\n"
      ],
      "metadata": {
        "id": "qQAgAgwXAE1n"
      }
    },
    {
      "cell_type": "code",
      "source": [
        "class MLP(torch.nn.Module):\n",
        "    def __init__(self, input_dim, hidden_dim, output_dim):\n",
        "        super().__init__()\n",
        "        self.lin1 = nn.Linear(input_dim, hidden_dim)\n",
        "        self.lin2 = nn.Linear(hidden_dim, output_dim)\n",
        "\n",
        "    def forward(self, data):\n",
        "        x = data.x  # no graph structure, only node features\n",
        "        x = F.relu(self.lin1(x))\n",
        "        x = self.lin2(x)\n",
        "        return F.log_softmax(x, dim=1)"
      ],
      "metadata": {
        "id": "yjDWDtwLAE7G"
      },
      "execution_count": 7,
      "outputs": []
    },
    {
      "cell_type": "code",
      "source": [
        "def accuracy(y_pred,y):\n",
        "  return accuracy_score(y, y_pred)*100"
      ],
      "metadata": {
        "id": "TnunKmqHBzxY"
      },
      "execution_count": 18,
      "outputs": []
    },
    {
      "cell_type": "code",
      "source": [
        "device = torch.device('cuda' if torch.cuda.is_available() else 'cpu')\n",
        "results = {}\n",
        "\n",
        "# iterate over the different model types\n",
        "for model_class in [MLP]: # later we test also with GCN (this post) and GAT (next blog post)\n",
        "    results[model_class.__name__] = []\n",
        "    for i in range(10):\n",
        "        print(f\"Training {model_class.__name__} iteration {i+1}\")\n",
        "\n",
        "        # the output_dim is the number of unique classes in the set\n",
        "        model = model_class(input_dim=data.x.shape[1], hidden_dim=32, output_dim=num_labels).to(device)\n",
        "        optimizer = optim.Adam(model.parameters(), lr=0.01, weight_decay=5e-4)\n",
        "\n",
        "        # deal with the class imbalance\n",
        "        class_weights = torch.bincount(data.y) / len(data.y)\n",
        "        loss_fn = nn.CrossEntropyLoss(weight=1/class_weights).to(device)\n",
        "\n",
        "        data = data.to(device)\n",
        "\n",
        "        # training loop\n",
        "        for epoch in range(100):\n",
        "            model.train()\n",
        "            optimizer.zero_grad()\n",
        "            out = model(data)\n",
        "\n",
        "            # calculate loss\n",
        "            train_loss = loss_fn(out[data.train_mask], data.y[data.train_mask])\n",
        "            acc = accuracy(out[data.train_mask].argmax(dim=1), data.y[data.train_mask])\n",
        "            train_loss.backward()\n",
        "            optimizer.step()\n",
        "\n",
        "            if epoch % 10 == 0:\n",
        "                model.eval()\n",
        "                with torch.no_grad():\n",
        "                    val_loss = loss_fn(out[data.val_mask], data.y[data.val_mask])\n",
        "                    val_acc = accuracy(out[data.val_mask].argmax(dim=1), data.y[data.val_mask])\n",
        "                    print(f'Epoch {epoch} | Training Loss: {train_loss.item():.2f} | Train Acc: {acc:>5.2f} | Validation Loss: {val_loss.item():.2f} | Validation Acc: {val_acc:>5.2f}')\n",
        "\n",
        "        # final evaluation on the test set\n",
        "        model.eval()\n",
        "        with torch.no_grad():\n",
        "            out = model(data)\n",
        "            test_loss = loss_fn(out[data.test_mask], data.y[data.test_mask])\n",
        "            test_acc = accuracy(out[data.test_mask].argmax(dim=1), data.y[data.test_mask])\n",
        "            print(f'{model_class.__name__} Test Loss: {test_loss.item():.2f} | Test Acc: {test_acc:>5.2f}')\n",
        "            results[model_class.__name__].append([acc, val_acc, test_acc])\n",
        "\n",
        "\n",
        "# print average on test set and standard deviation\n",
        "for model_name, model_results in results.items():\n",
        "    model_results = torch.tensor(model_results)\n",
        "    print(f'{model_name} Test Accuracy: {model_results[:, 2].mean():.2f} ± {model_results[:, 2].std():.2f}')"
      ],
      "metadata": {
        "colab": {
          "base_uri": "https://localhost:8080/"
        },
        "id": "MF00IIG5BDNG",
        "outputId": "6245cfcc-1a3a-4ecb-bc6b-5e1077291589"
      },
      "execution_count": 21,
      "outputs": [
        {
          "output_type": "stream",
          "name": "stdout",
          "text": [
            "Training MLP iteration 1\n",
            "Epoch 0 | Training Loss: 1.94 | Train Acc: 12.14 | Validation Loss: 1.95 | Validation Acc:  8.60\n",
            "Epoch 10 | Training Loss: 0.32 | Train Acc: 99.29 | Validation Loss: 1.56 | Validation Acc: 32.00\n",
            "Epoch 20 | Training Loss: 0.03 | Train Acc: 100.00 | Validation Loss: 1.28 | Validation Acc: 53.40\n",
            "Epoch 30 | Training Loss: 0.01 | Train Acc: 100.00 | Validation Loss: 1.32 | Validation Acc: 54.60\n",
            "Epoch 40 | Training Loss: 0.00 | Train Acc: 100.00 | Validation Loss: 1.35 | Validation Acc: 52.20\n",
            "Epoch 50 | Training Loss: 0.00 | Train Acc: 100.00 | Validation Loss: 1.34 | Validation Acc: 50.00\n",
            "Epoch 60 | Training Loss: 0.00 | Train Acc: 100.00 | Validation Loss: 1.30 | Validation Acc: 51.20\n",
            "Epoch 70 | Training Loss: 0.01 | Train Acc: 100.00 | Validation Loss: 1.27 | Validation Acc: 52.20\n",
            "Epoch 80 | Training Loss: 0.01 | Train Acc: 100.00 | Validation Loss: 1.26 | Validation Acc: 51.00\n",
            "Epoch 90 | Training Loss: 0.01 | Train Acc: 100.00 | Validation Loss: 1.26 | Validation Acc: 50.80\n",
            "MLP Test Loss: 1.27 | Test Acc: 52.60\n",
            "Training MLP iteration 2\n",
            "Epoch 0 | Training Loss: 1.98 | Train Acc: 14.29 | Validation Loss: 1.95 | Validation Acc: 31.80\n",
            "Epoch 10 | Training Loss: 0.33 | Train Acc: 94.29 | Validation Loss: 1.54 | Validation Acc: 37.60\n",
            "Epoch 20 | Training Loss: 0.03 | Train Acc: 100.00 | Validation Loss: 1.32 | Validation Acc: 52.60\n",
            "Epoch 30 | Training Loss: 0.01 | Train Acc: 100.00 | Validation Loss: 1.38 | Validation Acc: 58.80\n",
            "Epoch 40 | Training Loss: 0.00 | Train Acc: 100.00 | Validation Loss: 1.39 | Validation Acc: 57.40\n",
            "Epoch 50 | Training Loss: 0.00 | Train Acc: 100.00 | Validation Loss: 1.35 | Validation Acc: 55.80\n",
            "Epoch 60 | Training Loss: 0.00 | Train Acc: 100.00 | Validation Loss: 1.31 | Validation Acc: 56.20\n",
            "Epoch 70 | Training Loss: 0.01 | Train Acc: 100.00 | Validation Loss: 1.28 | Validation Acc: 56.80\n",
            "Epoch 80 | Training Loss: 0.01 | Train Acc: 100.00 | Validation Loss: 1.26 | Validation Acc: 55.80\n",
            "Epoch 90 | Training Loss: 0.01 | Train Acc: 100.00 | Validation Loss: 1.25 | Validation Acc: 55.20\n",
            "MLP Test Loss: 1.23 | Test Acc: 54.90\n",
            "Training MLP iteration 3\n",
            "Epoch 0 | Training Loss: 1.94 | Train Acc: 15.00 | Validation Loss: 1.95 | Validation Acc: 17.40\n",
            "Epoch 10 | Training Loss: 0.29 | Train Acc: 100.00 | Validation Loss: 1.53 | Validation Acc: 37.40\n",
            "Epoch 20 | Training Loss: 0.03 | Train Acc: 100.00 | Validation Loss: 1.29 | Validation Acc: 53.80\n",
            "Epoch 30 | Training Loss: 0.01 | Train Acc: 100.00 | Validation Loss: 1.34 | Validation Acc: 56.40\n",
            "Epoch 40 | Training Loss: 0.00 | Train Acc: 100.00 | Validation Loss: 1.37 | Validation Acc: 53.60\n",
            "Epoch 50 | Training Loss: 0.00 | Train Acc: 100.00 | Validation Loss: 1.35 | Validation Acc: 52.40\n",
            "Epoch 60 | Training Loss: 0.00 | Train Acc: 100.00 | Validation Loss: 1.31 | Validation Acc: 53.20\n",
            "Epoch 70 | Training Loss: 0.01 | Train Acc: 100.00 | Validation Loss: 1.28 | Validation Acc: 55.00\n",
            "Epoch 80 | Training Loss: 0.01 | Train Acc: 100.00 | Validation Loss: 1.27 | Validation Acc: 52.80\n",
            "Epoch 90 | Training Loss: 0.01 | Train Acc: 100.00 | Validation Loss: 1.26 | Validation Acc: 52.00\n",
            "MLP Test Loss: 1.24 | Test Acc: 54.00\n",
            "Training MLP iteration 4\n",
            "Epoch 0 | Training Loss: 1.93 | Train Acc: 15.71 | Validation Loss: 1.96 | Validation Acc:  5.00\n",
            "Epoch 10 | Training Loss: 0.33 | Train Acc: 97.14 | Validation Loss: 1.56 | Validation Acc: 37.80\n",
            "Epoch 20 | Training Loss: 0.03 | Train Acc: 100.00 | Validation Loss: 1.32 | Validation Acc: 55.00\n",
            "Epoch 30 | Training Loss: 0.01 | Train Acc: 100.00 | Validation Loss: 1.33 | Validation Acc: 55.80\n",
            "Epoch 40 | Training Loss: 0.00 | Train Acc: 100.00 | Validation Loss: 1.35 | Validation Acc: 54.20\n",
            "Epoch 50 | Training Loss: 0.00 | Train Acc: 100.00 | Validation Loss: 1.33 | Validation Acc: 51.40\n",
            "Epoch 60 | Training Loss: 0.00 | Train Acc: 100.00 | Validation Loss: 1.29 | Validation Acc: 51.80\n",
            "Epoch 70 | Training Loss: 0.01 | Train Acc: 100.00 | Validation Loss: 1.26 | Validation Acc: 53.00\n",
            "Epoch 80 | Training Loss: 0.01 | Train Acc: 100.00 | Validation Loss: 1.25 | Validation Acc: 51.40\n",
            "Epoch 90 | Training Loss: 0.01 | Train Acc: 100.00 | Validation Loss: 1.25 | Validation Acc: 51.40\n",
            "MLP Test Loss: 1.24 | Test Acc: 54.50\n",
            "Training MLP iteration 5\n",
            "Epoch 0 | Training Loss: 1.94 | Train Acc: 14.29 | Validation Loss: 1.95 | Validation Acc: 11.00\n",
            "Epoch 10 | Training Loss: 0.32 | Train Acc: 91.43 | Validation Loss: 1.60 | Validation Acc: 33.80\n",
            "Epoch 20 | Training Loss: 0.03 | Train Acc: 100.00 | Validation Loss: 1.31 | Validation Acc: 52.40\n",
            "Epoch 30 | Training Loss: 0.01 | Train Acc: 100.00 | Validation Loss: 1.32 | Validation Acc: 59.20\n",
            "Epoch 40 | Training Loss: 0.00 | Train Acc: 100.00 | Validation Loss: 1.34 | Validation Acc: 57.20\n",
            "Epoch 50 | Training Loss: 0.00 | Train Acc: 100.00 | Validation Loss: 1.33 | Validation Acc: 53.80\n",
            "Epoch 60 | Training Loss: 0.00 | Train Acc: 100.00 | Validation Loss: 1.30 | Validation Acc: 53.00\n",
            "Epoch 70 | Training Loss: 0.01 | Train Acc: 100.00 | Validation Loss: 1.28 | Validation Acc: 53.60\n",
            "Epoch 80 | Training Loss: 0.01 | Train Acc: 100.00 | Validation Loss: 1.26 | Validation Acc: 52.60\n",
            "Epoch 90 | Training Loss: 0.01 | Train Acc: 100.00 | Validation Loss: 1.25 | Validation Acc: 53.00\n",
            "MLP Test Loss: 1.25 | Test Acc: 53.60\n",
            "Training MLP iteration 6\n",
            "Epoch 0 | Training Loss: 1.95 | Train Acc: 12.14 | Validation Loss: 1.95 | Validation Acc: 11.20\n",
            "Epoch 10 | Training Loss: 0.31 | Train Acc: 97.14 | Validation Loss: 1.56 | Validation Acc: 31.60\n",
            "Epoch 20 | Training Loss: 0.03 | Train Acc: 100.00 | Validation Loss: 1.29 | Validation Acc: 53.00\n",
            "Epoch 30 | Training Loss: 0.01 | Train Acc: 100.00 | Validation Loss: 1.32 | Validation Acc: 55.40\n",
            "Epoch 40 | Training Loss: 0.00 | Train Acc: 100.00 | Validation Loss: 1.33 | Validation Acc: 53.60\n",
            "Epoch 50 | Training Loss: 0.00 | Train Acc: 100.00 | Validation Loss: 1.32 | Validation Acc: 51.00\n",
            "Epoch 60 | Training Loss: 0.00 | Train Acc: 100.00 | Validation Loss: 1.29 | Validation Acc: 50.40\n",
            "Epoch 70 | Training Loss: 0.01 | Train Acc: 100.00 | Validation Loss: 1.26 | Validation Acc: 52.60\n",
            "Epoch 80 | Training Loss: 0.01 | Train Acc: 100.00 | Validation Loss: 1.25 | Validation Acc: 52.60\n",
            "Epoch 90 | Training Loss: 0.01 | Train Acc: 100.00 | Validation Loss: 1.24 | Validation Acc: 52.40\n",
            "MLP Test Loss: 1.25 | Test Acc: 54.20\n",
            "Training MLP iteration 7\n",
            "Epoch 0 | Training Loss: 1.96 | Train Acc: 13.57 | Validation Loss: 1.95 | Validation Acc: 20.00\n",
            "Epoch 10 | Training Loss: 0.32 | Train Acc: 97.14 | Validation Loss: 1.60 | Validation Acc: 34.40\n",
            "Epoch 20 | Training Loss: 0.03 | Train Acc: 100.00 | Validation Loss: 1.35 | Validation Acc: 49.20\n",
            "Epoch 30 | Training Loss: 0.01 | Train Acc: 100.00 | Validation Loss: 1.34 | Validation Acc: 54.20\n",
            "Epoch 40 | Training Loss: 0.00 | Train Acc: 100.00 | Validation Loss: 1.36 | Validation Acc: 53.20\n",
            "Epoch 50 | Training Loss: 0.00 | Train Acc: 100.00 | Validation Loss: 1.34 | Validation Acc: 52.60\n",
            "Epoch 60 | Training Loss: 0.00 | Train Acc: 100.00 | Validation Loss: 1.31 | Validation Acc: 51.60\n",
            "Epoch 70 | Training Loss: 0.01 | Train Acc: 100.00 | Validation Loss: 1.28 | Validation Acc: 53.00\n",
            "Epoch 80 | Training Loss: 0.01 | Train Acc: 100.00 | Validation Loss: 1.26 | Validation Acc: 52.40\n",
            "Epoch 90 | Training Loss: 0.01 | Train Acc: 100.00 | Validation Loss: 1.25 | Validation Acc: 51.80\n",
            "MLP Test Loss: 1.25 | Test Acc: 52.90\n",
            "Training MLP iteration 8\n",
            "Epoch 0 | Training Loss: 1.93 | Train Acc: 12.86 | Validation Loss: 1.95 | Validation Acc: 10.60\n",
            "Epoch 10 | Training Loss: 0.32 | Train Acc: 97.86 | Validation Loss: 1.59 | Validation Acc: 34.80\n",
            "Epoch 20 | Training Loss: 0.04 | Train Acc: 100.00 | Validation Loss: 1.37 | Validation Acc: 51.20\n",
            "Epoch 30 | Training Loss: 0.01 | Train Acc: 100.00 | Validation Loss: 1.39 | Validation Acc: 54.00\n",
            "Epoch 40 | Training Loss: 0.00 | Train Acc: 100.00 | Validation Loss: 1.41 | Validation Acc: 52.00\n",
            "Epoch 50 | Training Loss: 0.00 | Train Acc: 100.00 | Validation Loss: 1.38 | Validation Acc: 50.20\n",
            "Epoch 60 | Training Loss: 0.00 | Train Acc: 100.00 | Validation Loss: 1.32 | Validation Acc: 51.60\n",
            "Epoch 70 | Training Loss: 0.01 | Train Acc: 100.00 | Validation Loss: 1.27 | Validation Acc: 54.00\n",
            "Epoch 80 | Training Loss: 0.01 | Train Acc: 100.00 | Validation Loss: 1.27 | Validation Acc: 53.20\n",
            "Epoch 90 | Training Loss: 0.01 | Train Acc: 100.00 | Validation Loss: 1.26 | Validation Acc: 53.60\n",
            "MLP Test Loss: 1.26 | Test Acc: 54.80\n",
            "Training MLP iteration 9\n",
            "Epoch 0 | Training Loss: 1.93 | Train Acc: 14.29 | Validation Loss: 1.95 | Validation Acc:  7.20\n",
            "Epoch 10 | Training Loss: 0.38 | Train Acc: 96.43 | Validation Loss: 1.65 | Validation Acc: 24.80\n",
            "Epoch 20 | Training Loss: 0.04 | Train Acc: 100.00 | Validation Loss: 1.33 | Validation Acc: 52.40\n",
            "Epoch 30 | Training Loss: 0.01 | Train Acc: 100.00 | Validation Loss: 1.32 | Validation Acc: 57.00\n",
            "Epoch 40 | Training Loss: 0.00 | Train Acc: 100.00 | Validation Loss: 1.34 | Validation Acc: 54.40\n",
            "Epoch 50 | Training Loss: 0.00 | Train Acc: 100.00 | Validation Loss: 1.32 | Validation Acc: 51.40\n",
            "Epoch 60 | Training Loss: 0.00 | Train Acc: 100.00 | Validation Loss: 1.28 | Validation Acc: 54.00\n",
            "Epoch 70 | Training Loss: 0.01 | Train Acc: 100.00 | Validation Loss: 1.26 | Validation Acc: 53.20\n",
            "Epoch 80 | Training Loss: 0.01 | Train Acc: 100.00 | Validation Loss: 1.25 | Validation Acc: 53.80\n",
            "Epoch 90 | Training Loss: 0.01 | Train Acc: 100.00 | Validation Loss: 1.25 | Validation Acc: 52.60\n",
            "MLP Test Loss: 1.25 | Test Acc: 54.20\n",
            "Training MLP iteration 10\n",
            "Epoch 0 | Training Loss: 1.95 | Train Acc: 14.29 | Validation Loss: 1.95 | Validation Acc: 31.60\n",
            "Epoch 10 | Training Loss: 0.32 | Train Acc: 98.57 | Validation Loss: 1.49 | Validation Acc: 40.20\n",
            "Epoch 20 | Training Loss: 0.03 | Train Acc: 100.00 | Validation Loss: 1.30 | Validation Acc: 54.40\n",
            "Epoch 30 | Training Loss: 0.01 | Train Acc: 100.00 | Validation Loss: 1.36 | Validation Acc: 56.80\n",
            "Epoch 40 | Training Loss: 0.00 | Train Acc: 100.00 | Validation Loss: 1.37 | Validation Acc: 56.40\n",
            "Epoch 50 | Training Loss: 0.00 | Train Acc: 100.00 | Validation Loss: 1.34 | Validation Acc: 57.20\n",
            "Epoch 60 | Training Loss: 0.00 | Train Acc: 100.00 | Validation Loss: 1.31 | Validation Acc: 56.80\n",
            "Epoch 70 | Training Loss: 0.01 | Train Acc: 100.00 | Validation Loss: 1.28 | Validation Acc: 55.80\n",
            "Epoch 80 | Training Loss: 0.01 | Train Acc: 100.00 | Validation Loss: 1.27 | Validation Acc: 54.80\n",
            "Epoch 90 | Training Loss: 0.01 | Train Acc: 100.00 | Validation Loss: 1.26 | Validation Acc: 54.60\n",
            "MLP Test Loss: 1.24 | Test Acc: 54.50\n",
            "MLP Test Accuracy: 54.02 ± 0.77\n"
          ]
        }
      ]
    },
    {
      "cell_type": "markdown",
      "source": [
        "#Theory Related to Graph Neural Network"
      ],
      "metadata": {
        "id": "hL7KuJeRET1p"
      }
    },
    {
      "cell_type": "markdown",
      "source": [
        "\n",
        "\n",
        "A linear layer from a normal neural network is written as:\n",
        "![](https://cdn-images-1.readmedium.com/v2/resize:fit:800/1*vf5VwYbT2yMfFF7QdStSoQ.png)\n",
        "\n",
        "Graph:  \n",
        "![](https://cdn-images-1.readmedium.com/v2/resize:fit:800/1*66EsQqSrq51bz0P2szdbRA.png)\n",
        "Also self is reachable so there should be a self loop which can be achieved by adding Identity Matrix\n",
        "![](https://cdn-images-1.readmedium.com/v2/resize:fit:800/1*wx6LWcvhEYs7O86XhG91kw.png)\n",
        "\n",
        "Now we can add this updated matrix to the linear layer:\n",
        "![](https://cdn-images-1.readmedium.com/v2/resize:fit:800/1*R8ex7tRgiDucTrRx-p_EVg.png)\n",
        "\n",
        "In GNNs it’s common to use symmetric normalization. The idea is to normalize each node’s aggregated features by the square root of its degree\n",
        "![](https://cdn-images-1.readmedium.com/v2/resize:fit:800/1*BfqYJV38FD6ln-lsZaHxzw.png)\n",
        "\n",
        "We have multiple options for normalization, for example:\n",
        "\n",
        "![](https://cdn-images-1.readmedium.com/v2/resize:fit:800/1*sI-M9orhrz2QAvdfkscagw.png)\n",
        "\n",
        "The symmetrically normalized (adapted) adjacency matrix is computed like this:\n",
        "![](https://cdn-images-1.readmedium.com/v2/resize:fit:800/1*5tREoKEmdU3_hfLMXlgmnQ.png)\n",
        "\n"
      ],
      "metadata": {
        "id": "olADN3-kBDQE"
      }
    },
    {
      "cell_type": "markdown",
      "source": [
        "#Training Using GCN"
      ],
      "metadata": {
        "id": "FCl-vq_CEfQw"
      }
    },
    {
      "cell_type": "code",
      "source": [
        "class GCN(torch.nn.Module):\n",
        "    def __init__(self, input_dim, hidden_dim, output_dim):\n",
        "        super().__init__()\n",
        "        self.conv1 = GCNConv(input_dim, hidden_dim)\n",
        "        self.conv2 = GCNConv(hidden_dim, output_dim)\n",
        "\n",
        "    def forward(self, data):\n",
        "        x, edge_index = data.x, data.edge_index\n",
        "        x = F.relu(self.conv1(x, edge_index))\n",
        "        x = self.conv2(x, edge_index)\n",
        "        return F.log_softmax(x, dim=1)"
      ],
      "metadata": {
        "id": "5JJAcA9UBDTK"
      },
      "execution_count": 19,
      "outputs": []
    },
    {
      "cell_type": "code",
      "source": [
        "for model_class in [GCN]: # later we test also with GCN (this post) and GAT (next blog post)\n",
        "    results[model_class.__name__] = []\n",
        "    for i in range(10):\n",
        "        print(f\"Training {model_class.__name__} iteration {i+1}\")\n",
        "\n",
        "        # the output_dim is the number of unique classes in the set\n",
        "        model = model_class(input_dim=data.x.shape[1], hidden_dim=32, output_dim=num_labels).to(device)\n",
        "        optimizer = optim.Adam(model.parameters(), lr=0.01, weight_decay=5e-4)\n",
        "\n",
        "        # deal with the class imbalance\n",
        "        class_weights = torch.bincount(data.y) / len(data.y)\n",
        "        loss_fn = nn.CrossEntropyLoss(weight=1/class_weights).to(device)\n",
        "\n",
        "        data = data.to(device)\n",
        "\n",
        "        # training loop\n",
        "        for epoch in range(100):\n",
        "            model.train()\n",
        "            optimizer.zero_grad()\n",
        "            out = model(data)\n",
        "\n",
        "            # calculate loss\n",
        "            train_loss = loss_fn(out[data.train_mask], data.y[data.train_mask])\n",
        "            acc = accuracy(out[data.train_mask].argmax(dim=1), data.y[data.train_mask])\n",
        "            train_loss.backward()\n",
        "            optimizer.step()\n",
        "\n",
        "            if epoch % 10 == 0:\n",
        "                model.eval()\n",
        "                with torch.no_grad():\n",
        "                    val_loss = loss_fn(out[data.val_mask], data.y[data.val_mask])\n",
        "                    val_acc = accuracy(out[data.val_mask].argmax(dim=1), data.y[data.val_mask])\n",
        "                    print(f'Epoch {epoch} | Training Loss: {train_loss.item():.2f} | Train Acc: {acc:>5.2f} | Validation Loss: {val_loss.item():.2f} | Validation Acc: {val_acc:>5.2f}')\n",
        "\n",
        "        # final evaluation on the test set\n",
        "        model.eval()\n",
        "        with torch.no_grad():\n",
        "            out = model(data)\n",
        "            test_loss = loss_fn(out[data.test_mask], data.y[data.test_mask])\n",
        "            test_acc = accuracy(out[data.test_mask].argmax(dim=1), data.y[data.test_mask])\n",
        "            print(f'{model_class.__name__} Test Loss: {test_loss.item():.2f} | Test Acc: {test_acc:>5.2f}')\n",
        "            results[model_class.__name__].append([acc, val_acc, test_acc])\n",
        "\n",
        "\n",
        "# print average on test set and standard deviation\n",
        "for model_name, model_results in results.items():\n",
        "    model_results = torch.tensor(model_results)\n",
        "    print(f'{model_name} Test Accuracy: {model_results[:, 2].mean():.2f} ± {model_results[:, 2].std():.2f}')"
      ],
      "metadata": {
        "colab": {
          "base_uri": "https://localhost:8080/"
        },
        "id": "ehzyxpwpBDWL",
        "outputId": "de6bfa0b-9db3-4b72-c237-511c36a861be"
      },
      "execution_count": 22,
      "outputs": [
        {
          "output_type": "stream",
          "name": "stdout",
          "text": [
            "Training GCN iteration 1\n",
            "Epoch 0 | Training Loss: 1.97 | Train Acc: 15.00 | Validation Loss: 1.94 | Validation Acc: 17.40\n",
            "Epoch 10 | Training Loss: 0.32 | Train Acc: 93.57 | Validation Loss: 0.98 | Validation Acc: 62.60\n",
            "Epoch 20 | Training Loss: 0.04 | Train Acc: 100.00 | Validation Loss: 0.64 | Validation Acc: 79.20\n",
            "Epoch 30 | Training Loss: 0.01 | Train Acc: 100.00 | Validation Loss: 0.66 | Validation Acc: 77.40\n",
            "Epoch 40 | Training Loss: 0.01 | Train Acc: 100.00 | Validation Loss: 0.65 | Validation Acc: 77.80\n",
            "Epoch 50 | Training Loss: 0.01 | Train Acc: 100.00 | Validation Loss: 0.64 | Validation Acc: 77.20\n",
            "Epoch 60 | Training Loss: 0.01 | Train Acc: 100.00 | Validation Loss: 0.63 | Validation Acc: 77.40\n",
            "Epoch 70 | Training Loss: 0.01 | Train Acc: 100.00 | Validation Loss: 0.64 | Validation Acc: 77.20\n",
            "Epoch 80 | Training Loss: 0.01 | Train Acc: 100.00 | Validation Loss: 0.64 | Validation Acc: 76.80\n",
            "Epoch 90 | Training Loss: 0.01 | Train Acc: 100.00 | Validation Loss: 0.64 | Validation Acc: 77.20\n",
            "GCN Test Loss: 0.58 | Test Acc: 79.30\n",
            "Training GCN iteration 2\n",
            "Epoch 0 | Training Loss: 1.94 | Train Acc: 16.43 | Validation Loss: 1.95 | Validation Acc:  9.40\n",
            "Epoch 10 | Training Loss: 0.28 | Train Acc: 90.71 | Validation Loss: 0.96 | Validation Acc: 59.80\n",
            "Epoch 20 | Training Loss: 0.03 | Train Acc: 100.00 | Validation Loss: 0.66 | Validation Acc: 78.40\n",
            "Epoch 30 | Training Loss: 0.01 | Train Acc: 100.00 | Validation Loss: 0.66 | Validation Acc: 75.80\n",
            "Epoch 40 | Training Loss: 0.01 | Train Acc: 100.00 | Validation Loss: 0.67 | Validation Acc: 76.00\n",
            "Epoch 50 | Training Loss: 0.01 | Train Acc: 100.00 | Validation Loss: 0.65 | Validation Acc: 75.80\n",
            "Epoch 60 | Training Loss: 0.01 | Train Acc: 100.00 | Validation Loss: 0.65 | Validation Acc: 76.00\n",
            "Epoch 70 | Training Loss: 0.01 | Train Acc: 100.00 | Validation Loss: 0.65 | Validation Acc: 76.40\n",
            "Epoch 80 | Training Loss: 0.01 | Train Acc: 100.00 | Validation Loss: 0.65 | Validation Acc: 77.00\n",
            "Epoch 90 | Training Loss: 0.01 | Train Acc: 100.00 | Validation Loss: 0.66 | Validation Acc: 76.80\n",
            "GCN Test Loss: 0.59 | Test Acc: 78.90\n",
            "Training GCN iteration 3\n",
            "Epoch 0 | Training Loss: 1.93 | Train Acc: 10.71 | Validation Loss: 1.96 | Validation Acc:  7.80\n",
            "Epoch 10 | Training Loss: 0.31 | Train Acc: 90.00 | Validation Loss: 0.98 | Validation Acc: 58.40\n",
            "Epoch 20 | Training Loss: 0.04 | Train Acc: 100.00 | Validation Loss: 0.65 | Validation Acc: 80.20\n",
            "Epoch 30 | Training Loss: 0.01 | Train Acc: 100.00 | Validation Loss: 0.65 | Validation Acc: 76.80\n",
            "Epoch 40 | Training Loss: 0.01 | Train Acc: 100.00 | Validation Loss: 0.64 | Validation Acc: 78.20\n",
            "Epoch 50 | Training Loss: 0.01 | Train Acc: 100.00 | Validation Loss: 0.63 | Validation Acc: 78.40\n",
            "Epoch 60 | Training Loss: 0.01 | Train Acc: 100.00 | Validation Loss: 0.63 | Validation Acc: 77.40\n",
            "Epoch 70 | Training Loss: 0.01 | Train Acc: 100.00 | Validation Loss: 0.63 | Validation Acc: 77.40\n",
            "Epoch 80 | Training Loss: 0.01 | Train Acc: 100.00 | Validation Loss: 0.64 | Validation Acc: 76.40\n",
            "Epoch 90 | Training Loss: 0.01 | Train Acc: 100.00 | Validation Loss: 0.64 | Validation Acc: 76.20\n",
            "GCN Test Loss: 0.58 | Test Acc: 79.40\n",
            "Training GCN iteration 4\n",
            "Epoch 0 | Training Loss: 1.95 | Train Acc: 14.29 | Validation Loss: 1.95 | Validation Acc: 19.80\n",
            "Epoch 10 | Training Loss: 0.29 | Train Acc: 97.14 | Validation Loss: 0.94 | Validation Acc: 69.80\n",
            "Epoch 20 | Training Loss: 0.03 | Train Acc: 100.00 | Validation Loss: 0.65 | Validation Acc: 75.80\n",
            "Epoch 30 | Training Loss: 0.01 | Train Acc: 100.00 | Validation Loss: 0.66 | Validation Acc: 76.20\n",
            "Epoch 40 | Training Loss: 0.01 | Train Acc: 100.00 | Validation Loss: 0.67 | Validation Acc: 75.80\n",
            "Epoch 50 | Training Loss: 0.01 | Train Acc: 100.00 | Validation Loss: 0.65 | Validation Acc: 76.60\n",
            "Epoch 60 | Training Loss: 0.01 | Train Acc: 100.00 | Validation Loss: 0.64 | Validation Acc: 77.00\n",
            "Epoch 70 | Training Loss: 0.01 | Train Acc: 100.00 | Validation Loss: 0.64 | Validation Acc: 77.20\n",
            "Epoch 80 | Training Loss: 0.01 | Train Acc: 100.00 | Validation Loss: 0.64 | Validation Acc: 76.20\n",
            "Epoch 90 | Training Loss: 0.01 | Train Acc: 100.00 | Validation Loss: 0.65 | Validation Acc: 75.60\n",
            "GCN Test Loss: 0.59 | Test Acc: 78.90\n",
            "Training GCN iteration 5\n",
            "Epoch 0 | Training Loss: 1.95 | Train Acc:  6.43 | Validation Loss: 1.94 | Validation Acc: 18.00\n",
            "Epoch 10 | Training Loss: 0.26 | Train Acc: 95.00 | Validation Loss: 0.89 | Validation Acc: 70.20\n",
            "Epoch 20 | Training Loss: 0.03 | Train Acc: 100.00 | Validation Loss: 0.63 | Validation Acc: 78.40\n",
            "Epoch 30 | Training Loss: 0.01 | Train Acc: 100.00 | Validation Loss: 0.65 | Validation Acc: 76.40\n",
            "Epoch 40 | Training Loss: 0.01 | Train Acc: 100.00 | Validation Loss: 0.65 | Validation Acc: 75.80\n",
            "Epoch 50 | Training Loss: 0.01 | Train Acc: 100.00 | Validation Loss: 0.64 | Validation Acc: 75.40\n",
            "Epoch 60 | Training Loss: 0.01 | Train Acc: 100.00 | Validation Loss: 0.63 | Validation Acc: 76.20\n",
            "Epoch 70 | Training Loss: 0.01 | Train Acc: 100.00 | Validation Loss: 0.63 | Validation Acc: 76.40\n",
            "Epoch 80 | Training Loss: 0.01 | Train Acc: 100.00 | Validation Loss: 0.64 | Validation Acc: 75.60\n",
            "Epoch 90 | Training Loss: 0.01 | Train Acc: 100.00 | Validation Loss: 0.64 | Validation Acc: 76.00\n",
            "GCN Test Loss: 0.59 | Test Acc: 78.60\n",
            "Training GCN iteration 6\n",
            "Epoch 0 | Training Loss: 1.94 | Train Acc:  6.43 | Validation Loss: 1.95 | Validation Acc:  6.40\n",
            "Epoch 10 | Training Loss: 0.30 | Train Acc: 95.71 | Validation Loss: 0.93 | Validation Acc: 70.20\n",
            "Epoch 20 | Training Loss: 0.03 | Train Acc: 100.00 | Validation Loss: 0.66 | Validation Acc: 75.40\n",
            "Epoch 30 | Training Loss: 0.01 | Train Acc: 100.00 | Validation Loss: 0.67 | Validation Acc: 75.20\n",
            "Epoch 40 | Training Loss: 0.01 | Train Acc: 100.00 | Validation Loss: 0.67 | Validation Acc: 75.20\n",
            "Epoch 50 | Training Loss: 0.01 | Train Acc: 100.00 | Validation Loss: 0.66 | Validation Acc: 76.20\n",
            "Epoch 60 | Training Loss: 0.01 | Train Acc: 100.00 | Validation Loss: 0.65 | Validation Acc: 76.40\n",
            "Epoch 70 | Training Loss: 0.01 | Train Acc: 100.00 | Validation Loss: 0.65 | Validation Acc: 76.60\n",
            "Epoch 80 | Training Loss: 0.01 | Train Acc: 100.00 | Validation Loss: 0.65 | Validation Acc: 76.20\n",
            "Epoch 90 | Training Loss: 0.01 | Train Acc: 100.00 | Validation Loss: 0.66 | Validation Acc: 75.80\n",
            "GCN Test Loss: 0.59 | Test Acc: 78.70\n",
            "Training GCN iteration 7\n",
            "Epoch 0 | Training Loss: 1.94 | Train Acc: 18.57 | Validation Loss: 1.95 | Validation Acc: 17.20\n",
            "Epoch 10 | Training Loss: 0.30 | Train Acc: 95.00 | Validation Loss: 0.97 | Validation Acc: 61.00\n",
            "Epoch 20 | Training Loss: 0.03 | Train Acc: 100.00 | Validation Loss: 0.66 | Validation Acc: 78.80\n",
            "Epoch 30 | Training Loss: 0.01 | Train Acc: 100.00 | Validation Loss: 0.66 | Validation Acc: 76.60\n",
            "Epoch 40 | Training Loss: 0.01 | Train Acc: 100.00 | Validation Loss: 0.65 | Validation Acc: 76.00\n",
            "Epoch 50 | Training Loss: 0.01 | Train Acc: 100.00 | Validation Loss: 0.64 | Validation Acc: 76.00\n",
            "Epoch 60 | Training Loss: 0.01 | Train Acc: 100.00 | Validation Loss: 0.64 | Validation Acc: 76.80\n",
            "Epoch 70 | Training Loss: 0.01 | Train Acc: 100.00 | Validation Loss: 0.64 | Validation Acc: 76.40\n",
            "Epoch 80 | Training Loss: 0.01 | Train Acc: 100.00 | Validation Loss: 0.64 | Validation Acc: 76.20\n",
            "Epoch 90 | Training Loss: 0.01 | Train Acc: 100.00 | Validation Loss: 0.64 | Validation Acc: 75.40\n",
            "GCN Test Loss: 0.58 | Test Acc: 78.80\n",
            "Training GCN iteration 8\n",
            "Epoch 0 | Training Loss: 1.96 | Train Acc:  6.43 | Validation Loss: 1.95 | Validation Acc:  5.60\n",
            "Epoch 10 | Training Loss: 0.30 | Train Acc: 96.43 | Validation Loss: 0.97 | Validation Acc: 68.60\n",
            "Epoch 20 | Training Loss: 0.03 | Train Acc: 100.00 | Validation Loss: 0.66 | Validation Acc: 78.00\n",
            "Epoch 30 | Training Loss: 0.01 | Train Acc: 100.00 | Validation Loss: 0.67 | Validation Acc: 76.60\n",
            "Epoch 40 | Training Loss: 0.01 | Train Acc: 100.00 | Validation Loss: 0.67 | Validation Acc: 76.40\n",
            "Epoch 50 | Training Loss: 0.01 | Train Acc: 100.00 | Validation Loss: 0.65 | Validation Acc: 76.60\n",
            "Epoch 60 | Training Loss: 0.01 | Train Acc: 100.00 | Validation Loss: 0.64 | Validation Acc: 77.00\n",
            "Epoch 70 | Training Loss: 0.01 | Train Acc: 100.00 | Validation Loss: 0.65 | Validation Acc: 77.40\n",
            "Epoch 80 | Training Loss: 0.01 | Train Acc: 100.00 | Validation Loss: 0.65 | Validation Acc: 77.60\n",
            "Epoch 90 | Training Loss: 0.01 | Train Acc: 100.00 | Validation Loss: 0.65 | Validation Acc: 76.40\n",
            "GCN Test Loss: 0.58 | Test Acc: 79.10\n",
            "Training GCN iteration 9\n",
            "Epoch 0 | Training Loss: 1.94 | Train Acc: 19.29 | Validation Loss: 1.95 | Validation Acc: 22.80\n",
            "Epoch 10 | Training Loss: 0.25 | Train Acc: 96.43 | Validation Loss: 0.89 | Validation Acc: 74.40\n",
            "Epoch 20 | Training Loss: 0.03 | Train Acc: 100.00 | Validation Loss: 0.64 | Validation Acc: 78.20\n",
            "Epoch 30 | Training Loss: 0.01 | Train Acc: 100.00 | Validation Loss: 0.66 | Validation Acc: 78.00\n",
            "Epoch 40 | Training Loss: 0.01 | Train Acc: 100.00 | Validation Loss: 0.65 | Validation Acc: 77.20\n",
            "Epoch 50 | Training Loss: 0.01 | Train Acc: 100.00 | Validation Loss: 0.64 | Validation Acc: 78.00\n",
            "Epoch 60 | Training Loss: 0.01 | Train Acc: 100.00 | Validation Loss: 0.63 | Validation Acc: 77.40\n",
            "Epoch 70 | Training Loss: 0.01 | Train Acc: 100.00 | Validation Loss: 0.63 | Validation Acc: 76.40\n",
            "Epoch 80 | Training Loss: 0.01 | Train Acc: 100.00 | Validation Loss: 0.64 | Validation Acc: 76.60\n",
            "Epoch 90 | Training Loss: 0.01 | Train Acc: 100.00 | Validation Loss: 0.64 | Validation Acc: 76.00\n",
            "GCN Test Loss: 0.58 | Test Acc: 79.00\n",
            "Training GCN iteration 10\n",
            "Epoch 0 | Training Loss: 1.96 | Train Acc: 10.00 | Validation Loss: 1.94 | Validation Acc: 13.80\n",
            "Epoch 10 | Training Loss: 0.32 | Train Acc: 92.86 | Validation Loss: 0.94 | Validation Acc: 65.40\n",
            "Epoch 20 | Training Loss: 0.04 | Train Acc: 100.00 | Validation Loss: 0.63 | Validation Acc: 79.20\n",
            "Epoch 30 | Training Loss: 0.01 | Train Acc: 100.00 | Validation Loss: 0.64 | Validation Acc: 77.40\n",
            "Epoch 40 | Training Loss: 0.01 | Train Acc: 100.00 | Validation Loss: 0.65 | Validation Acc: 77.20\n",
            "Epoch 50 | Training Loss: 0.01 | Train Acc: 100.00 | Validation Loss: 0.63 | Validation Acc: 77.00\n",
            "Epoch 60 | Training Loss: 0.01 | Train Acc: 100.00 | Validation Loss: 0.63 | Validation Acc: 77.00\n",
            "Epoch 70 | Training Loss: 0.01 | Train Acc: 100.00 | Validation Loss: 0.64 | Validation Acc: 78.00\n",
            "Epoch 80 | Training Loss: 0.01 | Train Acc: 100.00 | Validation Loss: 0.64 | Validation Acc: 77.80\n",
            "Epoch 90 | Training Loss: 0.01 | Train Acc: 100.00 | Validation Loss: 0.64 | Validation Acc: 77.60\n",
            "GCN Test Loss: 0.58 | Test Acc: 78.30\n",
            "MLP Test Accuracy: 54.02 ± 0.77\n",
            "GCN Test Accuracy: 78.90 ± 0.33\n"
          ]
        }
      ]
    },
    {
      "cell_type": "markdown",
      "source": [
        "**Conclusion**:  \n",
        "* MLP Test Accuracy: `54.02 ± 0.77 %`\n",
        "* GCN Test Accuracy: `78.90 ± 0.33 %`\n",
        "\n"
      ],
      "metadata": {
        "id": "UIvbMErwELFC"
      }
    },
    {
      "cell_type": "code",
      "source": [],
      "metadata": {
        "id": "7gxmHHEcELJD"
      },
      "execution_count": null,
      "outputs": []
    },
    {
      "cell_type": "markdown",
      "source": [
        "References:  \n",
        "1. Pytorch [GCNConv](https://pytorch-geometric.readthedocs.io/en/latest/generated/torch_geometric.nn.conv.GCNConv.html)\n",
        "2. Medium [Article](https://readmedium.com/graph-neural-networks-part-1-graph-convolutional-networks-explained-9c6aaa8a406e)"
      ],
      "metadata": {
        "id": "noseiwxDAFSP"
      }
    }
  ]
}